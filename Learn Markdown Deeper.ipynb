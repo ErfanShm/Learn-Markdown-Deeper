{
 "cells": [
  {
   "cell_type": "markdown",
   "id": "a0cca3f4-f8d5-4dd5-83b7-e059d4fbc5a4",
   "metadata": {},
   "source": [
    "# Learn Markdown Deeper: A Comprehensive Guide"
   ]
  },
  {
   "cell_type": "markdown",
   "id": "31982772-4456-4c20-a0cd-8a1024cdfb7b",
   "metadata": {},
   "source": [
    "## In This Guide\n",
    "\n",
    "- Markdown Background\n",
    "- Headings\n",
    "- Styling Text\n",
    "- Quoting Text\n",
    "- Block Quotes\n",
    "- Quoting Code\n",
    "- Links\n",
    "- Section Links\n",
    "- Relative Links\n",
    "- Images\n",
    "- Lists\n",
    "- Task Lists\n",
    "- Mentioning People and Teams\n",
    "- Paragraphs\n",
    "- Footnotes\n",
    "- Hiding Content with Comments\n",
    "- Ignoring Markdown Formatting\n",
    "- Tables\r\n",
    "- Fenced Code Blocks (Syntax Highlighting\n",
    "- HTML in Markdown\r\n"
   ]
  },
  {
   "cell_type": "markdown",
   "id": "991315b4-fae5-4bcf-a437-aacef97f6808",
   "metadata": {},
   "source": [
    "# Markdown Background"
   ]
  },
  {
   "cell_type": "markdown",
   "id": "3948534d-8afa-4588-975c-d8258eefecd2",
   "metadata": {},
   "source": [
    "## What is Markdown?\n",
    "\n",
    "Markdown is a simple way to add formatting to your text without needing to use complicated software. Created in 2004 by John Gruber, Markdown is now widely used for creating all sorts of documents.\n",
    "\n",
    "## Why Use Markdown?\n",
    "\n",
    "Markdown is:\n",
    "- **Easy**: You can format your text using simple characters. For example, `#` for headings and `**bold**` for bold text.\n",
    "- **Universal**: Markdown files can be opened and edited in any text editor on any device.\n",
    "- **Future-Proof**: Your files will always be readable because they are in plain text.\n",
    "- **Widely Supported**: Many websites and platforms, like GitHub, Jupyter, and Reddit, use Markdown.\n",
    "\n",
    "## How Does Markdown Work?\n",
    "\n",
    "1. **Write**: Create a text file with a `.md` extension using any text editor.\n",
    "2. **Open**: Use a Markdown app to view and edit the file.\n",
    "3. **Convert**: The app turns your Markdown text into a formatted document (like HTML or PDF).\n",
    "\n",
    "## Where to Use Markdown?\n",
    "\n",
    "### Websites\n",
    "- Create simple websites easily with Blot.im or Jekyll for more advanced users.\n",
    "\n",
    "### Documents\n",
    "- Write and format documents with apps like iA Writer, ghostwriter, or MacDown.\n",
    "\n",
    "### Notes\n",
    "- Take notes with apps like Obsidian, Simplenote, or Notable.\n",
    "\n",
    "### Books\n",
    "- Turn your Markdown files into e-books with Leanpub.\n",
    "\n",
    "### Presentations\n",
    "- Create slideshows with tools like Remark or Marp.\n",
    "\n",
    "### Email\n",
    "- Use Markdown Here to write emails in Markdown.\n",
    "\n",
    "### Documentation\n",
    "- Make user manuals and guides with Read the Docs, MkDocs, or Docusaurus.\n",
    "\n",
    "### Data Science and Programming\n",
    "- **Jupyter Notebooks**: Use Markdown in Jupyter Notebooks to document your code and add explanations. It's widely used in data science and research for combining code, visualizations, and text in a single document.\n",
    "\n",
    "### Version Control and Collaboration\n",
    "- Use Markdown in team communication apps like Slack and Discord.\n",
    "\n",
    "- **GitHub**: Markdown is extensively used on GitHub for README files, wikis, and issue tracking. It helps in creating well-structured and easy-to-read documentation, enhancing collaboration on projects.\n",
    "\n",
    "### Lightweight Markup Languages\n",
    "\n",
    "There are versions of Markdown that go beyond the basics, adding more features like tables, code blocks, and footnotes. These versions are called lightweight markup languages. They build on the standard Markdown syntax to make it more powerful and versatile.\n",
    "\n",
    "Here are some popular lightweight markup languages:\n",
    "\n",
    "- **CommonMark**: A standardized version of Markdown that aims to be clear and unambiguous.\n",
    "- **GitHub Flavored Markdown (GFM)**: Used on GitHub, it adds features like task lists and tables to standard Markdown.\n",
    "- **Markdown Extra**: Adds additional syntax like fenced code blocks and tables.\n",
    "- **MultiMarkdown**: Extends Markdown with features for writing academic and technical documents.\n",
    "- **R Markdown**: Integrates Markdown with R programming language, allowing for dynamic report generation.\n",
    "\n",
    "### Markdown Processors\n",
    "\n",
    "Markdown processors are tools that convert Markdown text into formatted documents. Many of these tools allow you to enable extensions, which bring in the extra features from lightweight markup languages. If you're using Markdown for a specific purpose, like writing technical documentation or creating web content, choosing a processor that supports the features you need can make your work easier and more effective."
   ]
  },
  {
   "cell_type": "markdown",
   "id": "80e2f171-b5d5-4e7f-9c6c-6ca308133bfa",
   "metadata": {},
   "source": [
    "# Markdown Syntax"
   ]
  },
  {
   "cell_type": "markdown",
   "id": "35878905-bd8d-4b05-9d3d-c23c4829090f",
   "metadata": {},
   "source": [
    "## > Headings\n",
    "To create a heading, add one to six `#` symbols before your heading text. The number of `#` you use will determine the hierarchy level and typeface size of the heading.\n",
    "\n",
    "Examples:\n",
    "\n",
    "# A first-level heading\n",
    "## A second-level heading\n",
    "### A third-level heading\n"
   ]
  },
  {
   "cell_type": "markdown",
   "id": "b26d7ead-59e5-4cc4-a1c1-e7b45cf7fa29",
   "metadata": {},
   "source": [
    "## > Styling Text\n",
    "You can use various styles to emphasize your text:\n",
    "\n",
    "| Style           | Syntax            | Keyboard Shortcut                  | Example                                  | Output                         |\n",
    "|-----------------|-------------------|------------------------------------|------------------------------------------|--------------------------------|\n",
    "| **Bold**        | `** **` or `__ __`| Ctrl+B (Windows/Linux) | `**This is bold text**`                  | **This is bold text**          |\n",
    "| *Italic*        | `* *` or `_ _`    | Ctrl+I (Windows/Linux) | `_This text is italicized_`              | *This text is italicized*      |\n",
    "| ~~Strikethrough~~| `~~ ~~`          | None                               | `~~This was mistaken text~~`             | ~~This was mistaken text~~     |\n"
   ]
  },
  {
   "cell_type": "markdown",
   "id": "7a694d5b-c955-42bc-80ac-60f9e517eef1",
   "metadata": {},
   "source": [
    "## > Quoting Text\n",
    "You can quote text with a `>`.\n",
    "\n",
    "Example:\n",
    "\n",
    "> Text that is a quote\n"
   ]
  },
  {
   "cell_type": "markdown",
   "id": "ccbf21f0-db70-4a29-a3da-5e4d82298445",
   "metadata": {},
   "source": [
    "## > Block Quotes\n",
    "\n",
    "To create a block quote that spans multiple paragraphs in Markdown, place a caret (`>`) at the beginning of each line, including blank lines. This ensures that the entire block is grouped together properly. For example:\n",
    "\n",
    "\n",
    "> Once upon a time and a very good time it was there was a moocow coming down along the road and this moocow that was coming down along the road met a nicens little boy named baby tuckoo...\n",
    ">\n",
    "> His father told him that story: his father looked at him through a glass: he had a hairy face.\n",
    ">\n",
    "> He was baby tuckoo. The moocow came down the road where Betty Byrne lived: she sold lemon platt.\n"
   ]
  },
  {
   "cell_type": "markdown",
   "id": "b6f78bae-684b-47f0-8941-e11dc6b2da62",
   "metadata": {},
   "source": [
    "## > Quoting Code\n",
    "Inline code can be called out with single backticks. Code blocks can be created using triple backticks.\n",
    "\n",
    "Inline example:\n",
    "\n",
    "Use `git status` to list all new or modified files.\n",
    "\n",
    "\n",
    "Block example:\n",
    "\n",
    "```\n",
    "git status\n",
    "git add\n",
    "git commit\n",
    "```\n"
   ]
  },
  {
   "cell_type": "markdown",
   "id": "938bb27d-1aec-444a-9f2d-cb29a6a99f8e",
   "metadata": {},
   "source": [
    "## > Links\n",
    "Create inline links by wrapping the link text in brackets `[]` and the URL in parentheses `()`.\n",
    "\n",
    "Example:\n",
    "\n",
    "[Our shared Repository page](https://github.com/MohammadAminDHM/Intern/tree/Erfan-Shafiee-Moghadam)\n"
   ]
  },
  {
   "cell_type": "markdown",
   "id": "2045f991-70ad-4893-802c-245bb31a983f",
   "metadata": {},
   "source": [
    "## > Section Links\n",
    "You can link directly to a section within the same document by using automatically generated anchor links. When you hover over a section heading in a rendered Markdown file on GitHub, a link icon appears next to the heading. Clicking this icon will provide a URL that points directly to that section.\n",
    "\n",
    "### Easy Example\n",
    "If your document has a section like this:\n",
    "\n",
    "### Section Two\n",
    "Content for section two.\n",
    "\n",
    "You can create a link to this section:\n",
    "\n",
    "\n",
    "[Go to Section Two](#section-two)\n"
   ]
  },
  {
   "cell_type": "markdown",
   "id": "8c9a406d-9242-4d1f-8e34-23c0d7c036c5",
   "metadata": {},
   "source": [
    "## > Relative Links\n",
    "Relative links are used to navigate between files within the same repository. They are particularly useful when linking to other documents in your project, as they remain consistent regardless of the branch you are on.\n",
    "\n",
    "### Example\n",
    "Assume you have the following project structure:\n",
    "```\n",
    "/project\n",
    "  ├── README.md\n",
    "  └── docs\n",
    "      └── CONTRIBUTING.md\n",
    "```\n",
    "To link to the `CONTRIBUTING.md` file from your `README.md` file:\n",
    "\n",
    "[Contribution guidelines for this project](docs/CONTRIBUTING.md)\n"
   ]
  },
  {
   "cell_type": "markdown",
   "id": "67fda31c-b265-4291-a0a5-3da5bc0376b7",
   "metadata": {},
   "source": [
    "## > Images\n",
    "Display an image by adding `!` and wrapping the alt text in `[]`, then wrapping the link for the image in `()`.\n",
    "\n",
    "Example:\n",
    "\n",
    "![Octocat smiling](https://myoctocat.com/assets/images/base-octocat.svg)"
   ]
  },
  {
   "cell_type": "markdown",
   "id": "a2665a82-5c0b-406d-aa93-285f46e6bec3",
   "metadata": {},
   "source": [
    "## > Lists\n",
    "Create unordered lists with `-`, `*`, or `+`, and ordered lists with numbers.\n",
    "\n",
    "Unordered list example:\n",
    "\n",
    "- George Washington\n",
    "* John Adams\n",
    "+ Thomas Jefferson\n",
    "\n",
    "\n",
    "Ordered list example:\n",
    "\n",
    "1. James Madison\n",
    "2. James Monroe\n",
    "3. John Quincy Adams"
   ]
  },
  {
   "cell_type": "markdown",
   "id": "5277ee52-735b-4143-8702-278ad69f0dde",
   "metadata": {},
   "source": [
    "## > Task Lists\n",
    "Create a task list with a hyphen, space, and `[ ]` or `[x]` for incomplete and complete tasks respectively.\n",
    "\n",
    "Example:\n",
    "\n",
    "- [x] Task 1\n",
    "- [ ] Task 2"
   ]
  },
  {
   "cell_type": "markdown",
   "id": "2951061c-3313-4231-ad39-aaabc2cd7545",
   "metadata": {},
   "source": [
    "## > Mentioning People and Teams (Specific to GitHub)\n",
    "Mention a person or team by typing `@` followed by their username or team name.\n",
    "\n",
    "Example:\n",
    "\n",
    "```markdown\n",
    "@github/support What do you think about these updates?\n",
    "```"
   ]
  },
  {
   "cell_type": "markdown",
   "id": "2a2a1b56-250b-4d4e-8296-5cd2f6e9bf8c",
   "metadata": {},
   "source": [
    "## > Paragraphs\n",
    "Create a new paragraph by leaving a blank line between lines of text."
   ]
  },
  {
   "cell_type": "markdown",
   "id": "7b916a0b-8fe1-4141-b8e0-8638e19f7e1b",
   "metadata": {},
   "source": [
    "## > Footnotes\n",
    "\n",
    "Add notes and references with footnotes. Create a footnote reference with a caret and identifier inside brackets (`[^1]`). Example:\n",
    "\n",
    "```markdown\n",
    "Here's a simple footnote,[^1] and here's a longer one.[^bignote]\n",
    "\n",
    "[^1]: This is the first footnote.\n",
    "\n",
    "[^bignote]: Here's one with multiple paragraphs and code.\n",
    "```\n",
    "\n",
    "Rendered output:\n",
    "\n",
    "Here’s a simple footnote,[^1] and here’s a longer one.[^bignote]\n",
    "\n",
    "[^1]: This is the first footnote.\n",
    "\n",
    "[^bignote]: Here’s one with multiple paragraphs and code.\n",
    "\n",
    "### Potential Issues with Rendering Footnotes\r\n",
    "\r\n",
    "While the footnote syntax is supported by many Markdown processors, it may not render correctly in all environments, such as Jupyter Notebooks. Here’s what to consider:\r\n",
    "\r\n",
    "- **Jupyter Notebooks**: As of now, Jupyter Notebooks do not support footnotes natively. This means that the footnote references and notes might not render as expected.\r\n",
    "- **Markdown Processors**: Some Markdown processors, especially older or more basic ones, might not support footnotes. Always check the documentation of the Markdown processor you are using to ensure compatibility.\r\n"
   ]
  },
  {
   "cell_type": "markdown",
   "id": "e4e6c5cd-72ea-4dda-a56c-ea6be772fc01",
   "metadata": {},
   "source": [
    "## > Hiding Content with Comments\n",
    "Hide content from rendered Markdown using HTML comments.\n",
    "\n",
    "Example:\n",
    "```markdown\n",
    "<!-- This content will not appear in the rendered Markdown -->\n",
    "```\n",
    "Output:\n",
    "\n",
    "<!-- This content will not appear in the rendered Markdown -->"
   ]
  },
  {
   "cell_type": "markdown",
   "id": "0c84a921-6870-4be1-8bf7-793305cc183e",
   "metadata": {},
   "source": [
    "## > Ignoring Markdown Formatting\n",
    "Escape Markdown characters using `\\`.\n",
    "\n",
    "Example:\n",
    "\n",
    "Let's rename \\*our-new-project\\* to \\*our-old-project\\*.\n"
   ]
  },
  {
   "cell_type": "markdown",
   "id": "4ff0cde6-99f9-4c50-a899-67876fbffc7b",
   "metadata": {},
   "source": [
    "## > Tables\n",
    "\n",
    "To add a table, use hyphens (`---`) to create each column’s header and pipes (`|`) to separate each column. Example:\n",
    "\n",
    "```markdown\n",
    "| Syntax      | Description |\n",
    "| ----------- | ----------- |\n",
    "| Header      | Title       |\n",
    "| Paragraph   | Text        |\n",
    "```\n",
    "\n",
    "Rendered output:\n",
    "\n",
    "| Syntax      | Description |\n",
    "| ----------- | ----------- |\n",
    "| Header      | Title       |\n",
    "| Paragraph   | Text        |\n",
    "\n",
    "### Alignment\n",
    "\n",
    "Align text in columns by adding a colon (`:`):\n",
    "\n",
    "```markdown\n",
    "| Syntax      | Description | Test Text     |\n",
    "| :---        |    :----:   |          ---: |\n",
    "| Header      | Title       | Here's this   |\n",
    "| Paragraph   | Text        | And more      |\n",
    "```\n",
    "\n",
    "Rendered output:\n",
    "\n",
    "| Syntax      | Description | Test Text     |\n",
    "| :---        |    :----:   |          ---: |\n",
    "| Header      | Title       | Here's this   |\n",
    "| Paragraph   | Text        | And more      |\n",
    "\n",
    "**Tip :** You can format text within tables (e.g., links, code, emphasis), but not use headings, blockquotes, lists, horizontal rules, images, or most HTML tags."
   ]
  },
  {
   "cell_type": "markdown",
   "id": "07e1fbad-3cc7-4ee4-9fef-5c16f38e47b1",
   "metadata": {},
   "source": [
    "## > Fenced Code Blocks (Syntax Highlighting)\n",
    "\n",
    "Create code blocks without indenting lines by using three backticks (```) or three tildes (~~~):\n",
    "\n",
    "```markdown\n",
    "{\n",
    "  \"firstName\": \"John\",\n",
    "  \"lastName\": \"Smith\",\n",
    "  \"age\": 25\n",
    "}\n",
    "```\n",
    "\n",
    "Rendered output:\n",
    "\n",
    "```Json\n",
    "{\n",
    "  \"firstName\": \"John\",\n",
    "  \"lastName\": \"Smith\",\n",
    "  \"age\": 25\n",
    "}\n",
    "```\n",
    "**Tip :** When this Markdown is rendered by a Markdown processor (like on GitHub or a Markdown viewer), it transforms the code block into a format that is displayed as a code snippet, often with syntax highlighting."
   ]
  },
  {
   "cell_type": "markdown",
   "id": "a5146d39-c036-416c-8e91-0f0fa2603af3",
   "metadata": {},
   "source": [
    "## > HTML in Markdown\n",
    "\n",
    "Markdown applications often support HTML tags, allowing for enhanced formatting or when Markdown lacks specific features. Here's a quick overview:\n",
    "\n",
    "### Example Usage\n",
    "\n",
    "You can use HTML tags directly:\n",
    "\n",
    "```markdown\n",
    "This <b>word</b> is bold. This <em>word</em> is italic.\n",
    "```\n",
    "\n",
    "Rendered output:\n",
    "\n",
    "This <b>word</b> is bold. This <em>word</em> is italic.\n",
    "\n",
    "\n",
    "### Benefits\n",
    "\n",
    "- **Control**: HTML provides more precise formatting options like colors and styles.\n",
    "- **Attributes**: Modify attributes such as `class` or `style` not supported by Markdown.\n",
    "- **Compatibility**: Ensures consistent rendering across platforms.\n",
    "\n",
    "### Considerations\n",
    "\n",
    "- **Mixing**: Be cautious mixing Markdown and HTML to avoid rendering issues.\n",
    "- **Accessibility**: Ensure content remains accessible when using HTML tags."
   ]
  }
 ],
 "metadata": {
  "kernelspec": {
   "display_name": "Python 3 (ipykernel)",
   "language": "python",
   "name": "python3"
  },
  "language_info": {
   "codemirror_mode": {
    "name": "ipython",
    "version": 3
   },
   "file_extension": ".py",
   "mimetype": "text/x-python",
   "name": "python",
   "nbconvert_exporter": "python",
   "pygments_lexer": "ipython3",
   "version": "3.9.18"
  }
 },
 "nbformat": 4,
 "nbformat_minor": 5
}
